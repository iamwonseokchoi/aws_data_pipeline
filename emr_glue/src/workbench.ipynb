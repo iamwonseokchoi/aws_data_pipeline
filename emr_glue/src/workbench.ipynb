{
 "cells": [
  {
   "cell_type": "code",
   "execution_count": null,
   "metadata": {},
   "outputs": [],
   "source": [
    "import os\n",
    "import boto3\n",
    "import shutil\n",
    "import awswrangler as wrangler\n",
    "\n",
    "# Constants\n",
    "from utils.consts import *"
   ]
  },
  {
   "cell_type": "markdown",
   "metadata": {},
   "source": [
    "### Enviornment Setup\n",
    "\n",
    "**NOTE**: `AWS_ACCESS_KEY` and `AWS_SECRET_KEY` are set as environment variables so make sure they exist!!"
   ]
  },
  {
   "cell_type": "code",
   "execution_count": null,
   "metadata": {},
   "outputs": [],
   "source": [
    "session = boto3.Session(region_name=AWS_REGION,aws_access_key_id=AWS_ACCESS_KEY,aws_secret_access_key=AWS_SECRET_KEY)\n",
    "client = session.client(\"emr-serverless\", region_name=AWS_REGION)"
   ]
  },
  {
   "cell_type": "markdown",
   "metadata": {},
   "source": [
    "If updating the environment for EMR you can repackage the Dockerfile:\n",
    "```\n",
    "docker build --output . .\n",
    "```"
   ]
  },
  {
   "cell_type": "code",
   "execution_count": null,
   "metadata": {},
   "outputs": [],
   "source": [
    "# Updates EMR Base environment (creates a new environment.tar.gz based on Dockerfile if True)\n",
    "UPDATE_ENVIRONMENT = False\n",
    "# Updates Codebase for EMR to use (Uploades /src/* as zip to S3 if True)\n",
    "UPDATE_MODULES = True"
   ]
  },
  {
   "cell_type": "code",
   "execution_count": null,
   "metadata": {},
   "outputs": [],
   "source": [
    "if UPDATE_MODULES:\n",
    "    if os.path.isfile(MODULE_FILE):\n",
    "        os.remove(MODULE_FILE)\n",
    "\n",
    "    if SCRIPT_FILE is not None and SCRIPT_PATH is not None:\n",
    "        module_file_name = MODULE_FILE.split('.')[0]\n",
    "        module_file_extension = MODULE_FILE.split('.')[1]\n",
    "        filename = f'{module_file_name}.{module_file_extension}'\n",
    "        shutil.make_archive('src', 'zip', '../', 'src')\n",
    "        wrangler.s3.upload(SCRIPT_FILE, FULL_SCRIPT_PATH, boto3_session=session)\n",
    "        wrangler.s3.upload(MODULE_FILE, FULL_MODULE_PATH, boto3_session=session)\n",
    "\n",
    "if UPDATE_ENVIRONMENT:\n",
    "    if not os.path.isfile(f'../{ENVIRONMENT_FILE}'):\n",
    "        raise Exception('Build your environment first using Docker: '\n",
    "                        'DOCKER_BUILDKIT=1 docker build --output . .')\n",
    "\n",
    "    wrangler.s3.upload(f'../{ENVIRONMENT_FILE}', FULL_ENVIRONMENT_PATH, boto3_session=session)"
   ]
  },
  {
   "cell_type": "markdown",
   "metadata": {},
   "source": [
    "### Manually Run EMR"
   ]
  },
  {
   "cell_type": "code",
   "execution_count": null,
   "metadata": {},
   "outputs": [],
   "source": [
    "from processing.emr import EMRServerless"
   ]
  },
  {
   "cell_type": "code",
   "execution_count": null,
   "metadata": {},
   "outputs": [],
   "source": [
    "# Can designate an Application ID (default None)\n",
    "APPLICATION_ID = \"00fe30cc9gb81u2p\"\n",
    "# Designate an Application Name\n",
    "APPLICATION_NAME = 'BatchOnDemand'"
   ]
  },
  {
   "cell_type": "code",
   "execution_count": null,
   "metadata": {},
   "outputs": [],
   "source": [
    "# Create and start a new EMRServerless Spark Application\n",
    "emr_serverless = EMRServerless(emr_client=client, application_id=APPLICATION_ID)\n",
    "if APPLICATION_ID is None: \n",
    "    print(f\"Creating and starting EMR Serverless Spark App\")\n",
    "    emr_serverless.create_application(APPLICATION_NAME, \"emr-6.14.0\")\n",
    "emr_serverless.start_application()"
   ]
  },
  {
   "cell_type": "code",
   "execution_count": null,
   "metadata": {},
   "outputs": [],
   "source": [
    "job_dict = {}\n",
    "job_run_id = None"
   ]
  },
  {
   "cell_type": "code",
   "execution_count": null,
   "metadata": {},
   "outputs": [],
   "source": [
    "# Submit a Spark job\n",
    "try:\n",
    "    job_run_id = emr_serverless.run_spark_job(\n",
    "        name=APPLICATION_NAME,\n",
    "        script_location=f\"{FULL_SCRIPT_PATH}\",\n",
    "        venv_name=\"environment\",\n",
    "        venv_location=f'{FULL_ENVIRONMENT_PATH}',\n",
    "        modules_location=f'{FULL_MODULE_PATH}',\n",
    "        job_role_arn=EMR_JOB_ROLE_ARN,\n",
    "        arguments=[\"PROD\"],\n",
    "        s3_bucket_name=S3_LOGS_BUCKET,\n",
    "        wait=False\n",
    "    )\n",
    "    print(f\"Submitting new Spark job with id {job_run_id}\")\n",
    "\n",
    "except Exception as e:\n",
    "    print(f'Error while submitting job: \\n{e}')\n",
    "\n",
    "    for job_run_id in job_dict.keys():\n",
    "        job_status = emr_serverless.cancel_spark_job(job_id=job_run_id)\n",
    "        print(f'Job {job_run_id} cancelled')\n",
    "\n",
    "    raise e\n",
    "\n",
    "job_dict[job_run_id] = False"
   ]
  }
 ],
 "metadata": {
  "kernelspec": {
   "display_name": "emr_serverless",
   "language": "python",
   "name": "python3"
  },
  "language_info": {
   "codemirror_mode": {
    "name": "ipython",
    "version": 3
   },
   "file_extension": ".py",
   "mimetype": "text/x-python",
   "name": "python",
   "nbconvert_exporter": "python",
   "pygments_lexer": "ipython3",
   "version": "3.8.18"
  }
 },
 "nbformat": 4,
 "nbformat_minor": 2
}
